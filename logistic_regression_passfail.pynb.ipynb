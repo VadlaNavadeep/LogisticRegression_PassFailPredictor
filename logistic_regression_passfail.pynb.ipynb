# ✅ Logistic Regression – Pass/Fail Classification Model

# Step 1: Import required libraries
import numpy as np
import matplotlib.pyplot as plt
from sklearn.linear_model import LogisticRegression

# Step 2: Prepare the dataset
# X = Hours studied
# y = 1 if Pass, 0 if Fail
X = np.array([[1], [2], [3], [4], [5], [6], [7], [8]])
y = np.array([0, 0, 0, 0, 1, 1, 1, 1])

# Step 3: Create and train the Logistic Regression model
model = LogisticRegression()
model.fit(X, y)

# Step 4: Predict for a new value
hours = 6.5
pred = model.predict([[hours]])
prob = model.predict_proba([[hours]])

print(f"Prediction for {hours} hrs:", 'Pass' if pred[0]==1 else 'Fail')
print("Probability (Fail, Pass):", prob)

# Step 5: Plot the decision boundary and curve
x_test = np.linspace(0, 9, 100).reshape(-1, 1)        # Create test values between 0 and 9
y_prob = model.predict_proba(x_test)[:, 1]            # Probability of "Pass"

# Scatter plot of actual data
plt.scatter(X, y, color='blue', label='Actual Data')

# Curve of prediction probabilities
plt.plot(x_test, y_prob, color='green', label='Prediction Curve')

plt.xlabel("Hours Studied")
plt.ylabel("Probability of Passing")
plt.title("Logistic Regression - Pass/Fail Prediction")
plt.legend()
plt.grid(True)
plt.show()
